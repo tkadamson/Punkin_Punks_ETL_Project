{
 "cells": [
  {
   "cell_type": "markdown",
   "metadata": {},
   "source": [
    "# Combined work for Punkin Punks ETL Project"
   ]
  },
  {
   "cell_type": "markdown",
   "metadata": {},
   "source": [
    "### Extract and Clean"
   ]
  },
  {
   "cell_type": "code",
   "execution_count": null,
   "metadata": {},
   "outputs": [],
   "source": [
    "import pandas as pd"
   ]
  },
  {
   "cell_type": "code",
   "execution_count": null,
   "metadata": {},
   "outputs": [],
   "source": [
    "#Import all csv's into DataFrames\n",
    "happiness_df = pd.read_csv('Resources/world_happiness_2019.csv')\n",
    "gdp_df = pd.read_csv('Resources/wb_gdp.csv')\n",
    "inflation_df = pd.read_csv('Resources/wb_inflation.csv')\n",
    "savings_df = pd.read_csv('Resources/wb_gross_savings.csv')"
   ]
  },
  {
   "cell_type": "code",
   "execution_count": null,
   "metadata": {},
   "outputs": [],
   "source": [
    "#Display happiness_df\n",
    "happiness_df.head()"
   ]
  },
  {
   "cell_type": "code",
   "execution_count": null,
   "metadata": {},
   "outputs": [],
   "source": [
    "#Delete columns we don't need\n",
    "del happiness_df['Overall rank']\n",
    "del happiness_df['GDP per capita']\n",
    "del happiness_df['Social support']\n",
    "del happiness_df['Healthy life expectancy']\n",
    "del happiness_df['Freedom to make life choices']\n",
    "del happiness_df['Generosity']\n",
    "del happiness_df['Perceptions of corruption']"
   ]
  },
  {
   "cell_type": "code",
   "execution_count": null,
   "metadata": {},
   "outputs": [],
   "source": [
    "#Display gdp_df\n",
    "gdp_df.head()"
   ]
  },
  {
   "cell_type": "code",
   "execution_count": null,
   "metadata": {},
   "outputs": [],
   "source": [
    "#Keep only Country name and 2019\n",
    "gdp_df = gdp_df[['Country Name', '2019']]\n",
    "\n",
    "#Rename Columns\n",
    "gdp_df.rename(columns={'2019': 'GDP'}, inplace=True)\n",
    "\n",
    "#Drop all null values\n",
    "gdp_df = gdp_df.dropna()"
   ]
  },
  {
   "cell_type": "code",
   "execution_count": null,
   "metadata": {},
   "outputs": [],
   "source": [
    "#Display inflation_df\n",
    "inflation_df.head()"
   ]
  },
  {
   "cell_type": "code",
   "execution_count": null,
   "metadata": {},
   "outputs": [],
   "source": [
    "#Keep only Country name and 2019\n",
    "inflation_df = inflation_df[['Country Name', '2019']]\n",
    "\n",
    "#Rename Columns\n",
    "inflation_df.rename(columns={'2019': 'Inflation'}, inplace=True)\n",
    "\n",
    "#Drop all null values\n",
    "inflation_df = inflation_df.dropna()"
   ]
  },
  {
   "cell_type": "code",
   "execution_count": null,
   "metadata": {},
   "outputs": [],
   "source": [
    "savings_df.head()"
   ]
  },
  {
   "cell_type": "code",
   "execution_count": null,
   "metadata": {},
   "outputs": [],
   "source": [
    "#Keep only Country name and 2019\n",
    "savings_df = savings_df[['Country Name', '2019']]\n",
    "\n",
    "#Rename Columns\n",
    "savings_df.rename(columns={'2019': 'Savings'}, inplace=True)\n",
    "\n",
    "#Drop all null values\n",
    "savings_df = savings_df.dropna()"
   ]
  },
  {
   "cell_type": "code",
   "execution_count": null,
   "metadata": {},
   "outputs": [],
   "source": [
    "#Export all cleaned dfs back to the resources folder\n",
    "happiness_df.to_csv(r'Resources/clean_happiness.csv')\n",
    "gdp_df.to_csv(r'Resources/clean_gdp.csv')\n",
    "inflation_df.to_csv(r'Resources/clean_inflation.csv')\n",
    "savings_df.to_csv('Resources/clean_savings.csv')"
   ]
  },
  {
   "cell_type": "markdown",
   "metadata": {},
   "source": [
    "### Transform and Main"
   ]
  },
  {
   "cell_type": "code",
   "execution_count": null,
   "metadata": {},
   "outputs": [],
   "source": [
    "clean_gdp_df = pd.read_csv('Resources/clean_gdp.csv');\n",
    "clean_happiness_df = pd.read_csv('Resources/clean_happiness.csv');\n",
    "clean_inflation_df = pd.read_csv('Resources/clean_inflation.csv');\n",
    "clean_savings_df = pd.read_csv('Resources/clean_savings.csv');"
   ]
  },
  {
   "cell_type": "code",
   "execution_count": null,
   "metadata": {},
   "outputs": [],
   "source": [
    "del clean_gdp_df['Unnamed: 0']\n",
    "clean_gdp_df.head()"
   ]
  },
  {
   "cell_type": "code",
   "execution_count": null,
   "metadata": {},
   "outputs": [],
   "source": [
    "del clean_happiness_df['Unnamed: 0']\n",
    "clean_happiness_df.rename(columns = {'Country or region': 'Country Name'}, inplace = True)\n",
    "clean_happiness_df.head()"
   ]
  },
  {
   "cell_type": "code",
   "execution_count": null,
   "metadata": {},
   "outputs": [],
   "source": [
    "del clean_inflation_df['Unnamed: 0']\n",
    "clean_inflation_df.head()"
   ]
  },
  {
   "cell_type": "code",
   "execution_count": null,
   "metadata": {},
   "outputs": [],
   "source": [
    "del clean_savings_df['Unnamed: 0']\n",
    "clean_savings_df.head()"
   ]
  },
  {
   "cell_type": "code",
   "execution_count": null,
   "metadata": {},
   "outputs": [],
   "source": [
    "world_wellbeing_df = pd.merge(clean_happiness_df, clean_gdp_df, how = 'left', on = 'Country Name')\n",
    "world_wellbeing_df = pd.merge(world_wellbeing_df, clean_savings_df, how = 'left', on = 'Country Name')\n",
    "world_wellbeing_df = pd.merge(world_wellbeing_df, clean_inflation_df, how = 'left', on = 'Country Name')\n",
    "world_wellbeing_df.head()"
   ]
  },
  {
   "cell_type": "code",
   "execution_count": null,
   "metadata": {},
   "outputs": [],
   "source": [
    "world_wellbeing_df.to_csv('Resources/world_wellbeing_2019.csv', index = False)"
   ]
  },
  {
   "cell_type": "code",
   "execution_count": null,
   "metadata": {},
   "outputs": [],
   "source": []
  }
 ],
 "metadata": {
  "kernelspec": {
   "display_name": "Python [conda env:root] *",
   "language": "python",
   "name": "conda-root-py"
  },
  "language_info": {
   "codemirror_mode": {
    "name": "ipython",
    "version": 3
   },
   "file_extension": ".py",
   "mimetype": "text/x-python",
   "name": "python",
   "nbconvert_exporter": "python",
   "pygments_lexer": "ipython3",
   "version": "3.8.5"
  }
 },
 "nbformat": 4,
 "nbformat_minor": 4
}
